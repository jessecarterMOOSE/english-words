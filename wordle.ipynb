{
 "cells": [
  {
   "cell_type": "code",
   "execution_count": 1,
   "id": "72128338",
   "metadata": {},
   "outputs": [],
   "source": [
    "from read_english_dictionary import load_words"
   ]
  },
  {
   "cell_type": "code",
   "execution_count": 2,
   "id": "b61c7732",
   "metadata": {},
   "outputs": [],
   "source": [
    "words=load_words()"
   ]
  },
  {
   "cell_type": "code",
   "execution_count": 3,
   "id": "a9a5322b",
   "metadata": {},
   "outputs": [
    {
     "data": {
      "text/plain": [
       "15918"
      ]
     },
     "execution_count": 3,
     "metadata": {},
     "output_type": "execute_result"
    }
   ],
   "source": [
    "words5=[word for word in words if len(word)==5]\n",
    "len(words5)"
   ]
  },
  {
   "cell_type": "code",
   "execution_count": 5,
   "id": "10a6583e",
   "metadata": {
    "scrolled": false
   },
   "outputs": [
    {
     "name": "stdout",
     "output_type": "stream",
     "text": [
      "juger\n",
      "ruder\n",
      "huger\n",
      "fuder\n"
     ]
    }
   ],
   "source": [
    "# 5-letter words, with some filtering\n",
    "possibilities=[word for word in words5               \n",
    "               if word[1]=='u' \n",
    "               and word[3]=='e'\n",
    "               and word[4]=='r'\n",
    "              ]\n",
    "badletters='qtyiopaslcnm'\n",
    "hasletters='uer'\n",
    "\n",
    "# loop over words\n",
    "for word in possibilities:\n",
    "    good=True\n",
    "    # check for letters that should not be there\n",
    "    for letter in badletters:\n",
    "        if letter in word:\n",
    "            good=False\n",
    "            break\n",
    "    # check for letters that should be there\n",
    "    for letter in hasletters:\n",
    "        if letter not in word:\n",
    "            good=False\n",
    "            break\n",
    "    # optional: ignore words with re-used letters\n",
    "#     for letter in word:\n",
    "#         if word.count(letter)>1:\n",
    "#             good=False\n",
    "#             break\n",
    "    if good:\n",
    "        print(word)"
   ]
  },
  {
   "cell_type": "code",
   "execution_count": null,
   "id": "f4390d04",
   "metadata": {},
   "outputs": [],
   "source": []
  }
 ],
 "metadata": {
  "kernelspec": {
   "display_name": "Python 3 (ipykernel)",
   "language": "python",
   "name": "python3"
  },
  "language_info": {
   "codemirror_mode": {
    "name": "ipython",
    "version": 3
   },
   "file_extension": ".py",
   "mimetype": "text/x-python",
   "name": "python",
   "nbconvert_exporter": "python",
   "pygments_lexer": "ipython3",
   "version": "3.10.4"
  }
 },
 "nbformat": 4,
 "nbformat_minor": 5
}
